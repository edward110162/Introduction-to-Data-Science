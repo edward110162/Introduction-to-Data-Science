{
 "cells": [
  {
   "cell_type": "code",
   "execution_count": 20,
   "metadata": {},
   "outputs": [
    {
     "name": "stdout",
     "output_type": "stream",
     "text": [
      "輸入一個數字: 50\n",
      "60\n"
     ]
    }
   ],
   "source": [
    "num = float(input('請輸入數值: '))\n",
    "\n",
    "if num < 50:\n",
    "    print(int(num ** 0.5 * 10))\n",
    "else:\n",
    "    print(int(num + 10))"
   ]
  },
  {
   "cell_type": "code",
   "execution_count": 23,
   "metadata": {},
   "outputs": [
    {
     "name": "stdout",
     "output_type": "stream",
     "text": [
      "輸入學生的分數: 60\n",
      "A\n"
     ]
    }
   ],
   "source": [
    "score = float(input('學生的分數: '))\n",
    "\n",
    "if score > 90:\n",
    "    print(\"A\")\n",
    "elif score > 80:\n",
    "    print(\"B\")\n",
    "elif score > 70:\n",
    "    print(\"C\")\n",
    "elif score > 60:\n",
    "    print(\"D\")\n",
    "else:\n",
    "    print(\"E\")"
   ]
  },
  {
   "cell_type": "code",
   "execution_count": null,
   "metadata": {},
   "outputs": [],
   "source": [
    "for i in range(1, 10):\n",
    "    for j in range(1, i+1):\n",
    "        print('{}x{}={}\\t'.format(j, i, i*j), end='')\n",
    "    print()"
   ]
  },
  {
   "cell_type": "code",
   "execution_count": null,
   "metadata": {},
   "outputs": [],
   "source": [
    "deposit = float(input('每月存入的金額: '))\n",
    "interest = float(input('年收益率: '))\n",
    "times = float(input('期數: '))\n",
    "interest_month = 1 + (interest / 12)\n",
    "\n",
    "for i in range(1, times):\n",
    "    for j in range(1, i+1):\n",
    "        print(times)\n",
    "    print()\n"
   ]
  },
  {
   "cell_type": "code",
   "execution_count": null,
   "metadata": {},
   "outputs": [],
   "source": [
    "deposit = float(input('每月存入的金額: '))\n",
    "interest = float(input('年收益率: '))\n",
    "times = float(input('期數: '))\n",
    "interest_month = 1 + (interest / 12)\n",
   ]
  }